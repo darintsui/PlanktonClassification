{
 "cells": [
  {
   "attachments": {},
   "cell_type": "markdown",
   "metadata": {},
   "source": [
    "### Alexnet Implementation"
   ]
  },
  {
   "cell_type": "code",
   "execution_count": 1,
   "metadata": {},
   "outputs": [],
   "source": [
    "import torch\n",
    "import torch.nn as nn\n",
    "import torch.optim as optim\n",
    "from torch.utils.data import DataLoader, random_split\n",
    "from alexnet import AlexNet\n",
    "from torchvision.datasets import ImageFolder\n",
    "from torchvision.transforms import transforms\n",
    "from sklearn.model_selection import train_test_split\n",
    "from sklearn.model_selection import KFold\n",
    "from torch.utils.data import ConcatDataset\n",
    "import numpy as np"
   ]
  },
  {
   "cell_type": "code",
   "execution_count": 2,
   "metadata": {},
   "outputs": [],
   "source": [
    "# Define the transformations to apply to the images\n",
    "transform = transforms.Compose([\n",
    "    transforms.Resize((224, 224)),\n",
    "    transforms.ToTensor(),\n",
    "    transforms.Normalize(mean=[0.485, 0.456, 0.406], std=[0.229, 0.224, 0.225])\n",
    "])\n",
    "\n",
    "transform_augmented = transforms.Compose([\n",
    "    transforms.Resize((224, 224)),\n",
    "    transforms.RandomAffine(degrees=(-20, 20), translate=(0.1, 0.1), scale=(0.9, 1.1)),\n",
    "    transforms.ToTensor(),\n",
    "    transforms.Normalize(mean=[0.485, 0.456, 0.406], std=[0.229, 0.224, 0.225])\n",
    "])\n",
    "\n",
    "# Load the entire dataset\n",
    "dataset = ImageFolder('train_imgs', transform=transform)\n",
    "dataset_augmented  = ImageFolder('train_imgs', transform=transform_augmented)"
   ]
  },
  {
   "cell_type": "code",
   "execution_count": 3,
   "metadata": {},
   "outputs": [],
   "source": [
    "# Define the AlexNet model\n",
    "model = AlexNet(num_classes=len(dataset.classes))\n",
    "\n",
    "# Define the loss function and optimizer\n",
    "criterion = nn.CrossEntropyLoss()\n",
    "optimizer = optim.SGD(model.parameters(), lr=0.01, momentum=0.9)"
   ]
  },
  {
   "cell_type": "code",
   "execution_count": 4,
   "metadata": {},
   "outputs": [],
   "source": [
    "# Define the number of folds for k-fold cross-validation\n",
    "k_folds = 3\n",
    "\n",
    "# Create KFold object to generate k-fold splits\n",
    "kfold = KFold(n_splits=k_folds, shuffle=True, random_state=1)\n",
    "\n",
    "# Create empty lists to store the accuracies for each fold\n",
    "fold_accuracies = []\n",
    "batchsize = 128"
   ]
  },
  {
   "cell_type": "code",
   "execution_count": 5,
   "metadata": {},
   "outputs": [
    {
     "name": "stdout",
     "output_type": "stream",
     "text": [
      "Fold 1/3\n",
      "[1,   100] loss: 4.396\n",
      "[2,   100] loss: 3.964\n",
      "[3,   100] loss: 3.010\n",
      "[4,   100] loss: 2.366\n",
      "[5,   100] loss: 2.035\n",
      "[6,   100] loss: 1.818\n",
      "[7,   100] loss: 1.636\n",
      "[8,   100] loss: 1.483\n",
      "[9,   100] loss: 1.333\n",
      "[10,   100] loss: 1.231\n",
      "Accuracy on validation set: 58 %\n",
      "Fold 2/3\n",
      "[1,   100] loss: 1.316\n",
      "[2,   100] loss: 1.156\n",
      "[3,   100] loss: 1.050\n",
      "[4,   100] loss: 0.977\n",
      "[5,   100] loss: 0.887\n",
      "[6,   100] loss: 0.777\n",
      "[7,   100] loss: 0.726\n",
      "[8,   100] loss: 0.667\n",
      "[9,   100] loss: 0.611\n",
      "[10,   100] loss: 0.531\n",
      "Accuracy on validation set: 64 %\n",
      "Fold 3/3\n",
      "[1,   100] loss: 0.925\n",
      "[2,   100] loss: 0.735\n",
      "[3,   100] loss: 0.627\n",
      "[4,   100] loss: 0.541\n",
      "[5,   100] loss: 0.469\n",
      "[6,   100] loss: 0.427\n",
      "[7,   100] loss: 0.371\n",
      "[8,   100] loss: 0.340\n",
      "[9,   100] loss: 0.331\n",
      "[10,   100] loss: 0.295\n",
      "Accuracy on validation set: 74 %\n",
      "Mean Accuracy: 65.8986, Std Accuracy: 6.8597\n"
     ]
    }
   ],
   "source": [
    "# Loop through the k-fold splits\n",
    "for fold, (train_idxs, val_idxs) in enumerate(kfold.split(dataset)):\n",
    "    print(f'Fold {fold+1}/{k_folds}')\n",
    "\n",
    "    ### Commenting out for better runtime?\n",
    "    #for fold_i, (train_idx_i, val_idx_i) in enumerate(kfold.split(dataset_augmented)):\n",
    "    #    if fold == fold_i:\n",
    "    #        train_augmented_idxs = train_idx_i\n",
    "    #        val_augmented_idxs = val_idx_i\n",
    "    #        continue\n",
    "    \n",
    "    # Create data loaders for training and validation sets\n",
    "    train_dataset = torch.utils.data.Subset(dataset, train_idxs)\n",
    "    #train_augmented_dataset = torch.utils.data.Subset(dataset_augmented, train_augmented_idxs)\n",
    "    #train_dataset = ConcatDataset([train_dataset, train_augmented_dataset])\n",
    "\n",
    "    val_dataset = torch.utils.data.Subset(dataset, val_idxs)\n",
    "    train_loader = DataLoader(train_dataset, batch_size=batchsize, shuffle=True)\n",
    "    val_loader = DataLoader(val_dataset, batch_size=batchsize, shuffle=False)\n",
    "\n",
    "\n",
    "    # Train the model\n",
    "    num_epochs = 10\n",
    "    for epoch in range(num_epochs):\n",
    "        running_loss = 0.0\n",
    "        for i, data in enumerate(train_loader, 0):\n",
    "            # Get the inputs and labels\n",
    "            inputs, labels = data\n",
    "\n",
    "            # Zero the parameter gradients\n",
    "            optimizer.zero_grad()\n",
    "\n",
    "            # Forward + backward + optimize\n",
    "            outputs = model(inputs)\n",
    "            loss = criterion(outputs, labels)\n",
    "            loss.backward()\n",
    "            optimizer.step()\n",
    "\n",
    "            # Print statistics\n",
    "            running_loss += loss.item()\n",
    "            if i % 100 == 99:    # Print every 100 mini-batches\n",
    "                print('[%d, %5d] loss: %.3f' % (epoch + 1, i + 1, running_loss / 100))\n",
    "                running_loss = 0.0\n",
    "\n",
    "    # Evaluate the model on the validation set\n",
    "    correct = 0\n",
    "    total = 0\n",
    "    with torch.no_grad():\n",
    "        for data in val_loader:\n",
    "            images, labels = data\n",
    "            outputs = model(images)\n",
    "            _, predicted = torch.max(outputs.data, 1)\n",
    "            total += labels.size(0)\n",
    "            correct += (predicted == labels).sum().item()\n",
    "\n",
    "    print('Accuracy on validation set: %d %%' % (100 * correct / total))\n",
    "    # Store the loss and accuracy for this fold\n",
    "    fold_accuracies.append(100 * correct / total)\n",
    "\n",
    "# Print the mean and standard deviation of the accuracies for all folds\n",
    "print(f'Mean Accuracy: {np.mean(fold_accuracies):.4f}, Std Accuracy: {np.std(fold_accuracies):.4f}')"
   ]
  },
  {
   "cell_type": "code",
   "execution_count": 6,
   "metadata": {},
   "outputs": [
    {
     "name": "stdout",
     "output_type": "stream",
     "text": [
      "Accuracy on validation set: 74 %\n"
     ]
    }
   ],
   "source": [
    "# Evaluate the model on the validation set\n",
    "correct = 0\n",
    "total = 0\n",
    "with torch.no_grad():\n",
    "    for data in val_loader:\n",
    "        images, labels = data\n",
    "        outputs = model(images)\n",
    "        _, predicted = torch.max(outputs.data, 1)\n",
    "        total += labels.size(0)\n",
    "        correct += (predicted == labels).sum().item()\n",
    "\n",
    "print('Accuracy on validation set: %d %%' % (100 * correct / total))\n",
    "# Store the loss and accuracy for this fold\n",
    "fold_accuracies.append(100 * correct / total)\n"
   ]
  },
  {
   "cell_type": "code",
   "execution_count": 7,
   "metadata": {},
   "outputs": [
    {
     "name": "stdout",
     "output_type": "stream",
     "text": [
      "Accuracy on training set: 92 %\n"
     ]
    }
   ],
   "source": [
    "# Evaluate the model on the training set\n",
    "correct = 0\n",
    "total = 0\n",
    "with torch.no_grad():\n",
    "    for data in train_loader:\n",
    "        images, labels = data\n",
    "        outputs = model(images)\n",
    "        _, predicted = torch.max(outputs.data, 1)\n",
    "        total += labels.size(0)\n",
    "        correct += (predicted == labels).sum().item()\n",
    "\n",
    "print('Accuracy on training set: %d %%' % (100 * correct / total))"
   ]
  },
  {
   "cell_type": "code",
   "execution_count": 8,
   "metadata": {},
   "outputs": [
    {
     "name": "stdout",
     "output_type": "stream",
     "text": [
      "[1,   100] loss: 0.271\n"
     ]
    },
    {
     "ename": "NameError",
     "evalue": "name 'test_loader' is not defined",
     "output_type": "error",
     "traceback": [
      "\u001b[1;31m---------------------------------------------------------------------------\u001b[0m",
      "\u001b[1;31mNameError\u001b[0m                                 Traceback (most recent call last)",
      "Cell \u001b[1;32mIn[8], line 28\u001b[0m\n\u001b[0;32m     26\u001b[0m total \u001b[39m=\u001b[39m \u001b[39m0\u001b[39m\n\u001b[0;32m     27\u001b[0m \u001b[39mwith\u001b[39;00m torch\u001b[39m.\u001b[39mno_grad():\n\u001b[1;32m---> 28\u001b[0m     \u001b[39mfor\u001b[39;00m data \u001b[39min\u001b[39;00m test_loader:\n\u001b[0;32m     29\u001b[0m         images, labels \u001b[39m=\u001b[39m data\n\u001b[0;32m     30\u001b[0m         outputs \u001b[39m=\u001b[39m model(images)\n",
      "\u001b[1;31mNameError\u001b[0m: name 'test_loader' is not defined"
     ]
    }
   ],
   "source": [
    "# Train the model\n",
    "num_epochs = 10\n",
    "for epoch in range(num_epochs):\n",
    "    running_loss = 0.0\n",
    "    for i, data in enumerate(train_loader, 0):\n",
    "        # Get the inputs and labels\n",
    "        inputs, labels = data\n",
    "\n",
    "        # Zero the parameter gradients\n",
    "        optimizer.zero_grad()\n",
    "\n",
    "        # Forward + backward + optimize\n",
    "        outputs = model(inputs)\n",
    "        loss = criterion(outputs, labels)\n",
    "        loss.backward()\n",
    "        optimizer.step()\n",
    "\n",
    "        # Print statistics\n",
    "        running_loss += loss.item()\n",
    "        if i % 100 == 99:    # Print every 100 mini-batches\n",
    "            print('[%d, %5d] loss: %.3f' % (epoch + 1, i + 1, running_loss / 100))\n",
    "            running_loss = 0.0\n",
    "\n",
    "    # Evaluate the model on the validation set\n",
    "    correct = 0\n",
    "    total = 0\n",
    "    with torch.no_grad():\n",
    "        for data in test_loader:\n",
    "            images, labels = data\n",
    "            outputs = model(images)\n",
    "            _, predicted = torch.max(outputs.data, 1)\n",
    "            total += labels.size(0)\n",
    "            correct += (predicted == labels).sum().item()\n",
    "\n",
    "    print('Accuracy on validation set: %d %%' % (100 * correct / total))"
   ]
  },
  {
   "cell_type": "code",
   "execution_count": null,
   "metadata": {},
   "outputs": [
    {
     "name": "stdout",
     "output_type": "stream",
     "text": [
      "Accuracy on validation set: 24 %\n"
     ]
    }
   ],
   "source": [
    "# Evaluate the model on the validation set\n",
    "correct = 0\n",
    "total = 0\n",
    "with torch.no_grad():\n",
    "    for data in test_loader:\n",
    "        images, labels = data\n",
    "        outputs = model(images)\n",
    "        _, predicted = torch.max(outputs.data, 1)\n",
    "        total += labels.size(0)\n",
    "        correct += (predicted == labels).sum().item()\n",
    "\n",
    "    print('Accuracy on validation set: %d %%' % (100 * correct / total))"
   ]
  },
  {
   "cell_type": "code",
   "execution_count": null,
   "metadata": {},
   "outputs": [],
   "source": []
  }
 ],
 "metadata": {
  "kernelspec": {
   "display_name": "Python 3",
   "language": "python",
   "name": "python3"
  },
  "language_info": {
   "codemirror_mode": {
    "name": "ipython",
    "version": 3
   },
   "file_extension": ".py",
   "mimetype": "text/x-python",
   "name": "python",
   "nbconvert_exporter": "python",
   "pygments_lexer": "ipython3",
   "version": "3.8.10"
  },
  "orig_nbformat": 4
 },
 "nbformat": 4,
 "nbformat_minor": 2
}
